{
 "cells": [
  {
   "cell_type": "code",
   "execution_count": 1,
   "id": "53900a9a",
   "metadata": {},
   "outputs": [],
   "source": [
    "from bs4 import BeautifulSoup\n",
    "import pandas as pd\n",
    "import requests"
   ]
  },
  {
   "cell_type": "markdown",
   "id": "10bb5693",
   "metadata": {},
   "source": [
    "Getting the data:"
   ]
  },
  {
   "cell_type": "code",
   "execution_count": 2,
   "id": "ecfc36d6",
   "metadata": {},
   "outputs": [
    {
     "data": {
      "text/plain": [
       "200"
      ]
     },
     "execution_count": 2,
     "metadata": {},
     "output_type": "execute_result"
    }
   ],
   "source": [
    "r = requests.get('https://en.wikipedia.org/wiki/List_of_Eurovision_Song_Contest_entries_(2004%E2%80%93present)')\n",
    "r.status_code"
   ]
  },
  {
   "cell_type": "code",
   "execution_count": 3,
   "id": "bb25eec6",
   "metadata": {},
   "outputs": [],
   "source": [
    "html = r.content\n",
    "soup = BeautifulSoup(html, 'html.parser')\n",
    "\n",
    "# Get all tables with Eurovision songs\n",
    "html_table = soup.find_all('table', attrs={'class': 'wikitable plainrowheaders'})"
   ]
  },
  {
   "cell_type": "code",
   "execution_count": 4,
   "id": "0b26c7b0",
   "metadata": {},
   "outputs": [],
   "source": [
    "eurosong = pd.DataFrame()\n",
    "\n",
    "for i in range(len(html_table)):\n",
    "    df = pd.read_html(html_table[i].prettify())[0]\n",
    "    eurosong = pd.concat([eurosong, df])"
   ]
  },
  {
   "cell_type": "markdown",
   "id": "4a4e4653",
   "metadata": {},
   "source": [
    "Cleaning the data:"
   ]
  },
  {
   "cell_type": "code",
   "execution_count": 5,
   "id": "a86f0e24",
   "metadata": {},
   "outputs": [
    {
     "data": {
      "text/plain": [
       "Index(['#', 'r/o_sf', 'r/o_f', 'country', '#.1', 'artist', 'song', 'language',\n",
       "       'songwriter(s)', 'placing', 'year', 'reason', 'ref(s)'],\n",
       "      dtype='object')"
      ]
     },
     "execution_count": 5,
     "metadata": {},
     "output_type": "execute_result"
    }
   ],
   "source": [
    "eurosong.columns=[eurosong.columns[col_name].lower().replace(' ','_') for col_name in range(len(eurosong.columns))]\n",
    "eurosong.columns"
   ]
  },
  {
   "cell_type": "code",
   "execution_count": 6,
   "id": "47eac029",
   "metadata": {},
   "outputs": [
    {
     "data": {
      "text/html": [
       "<div>\n",
       "<style scoped>\n",
       "    .dataframe tbody tr th:only-of-type {\n",
       "        vertical-align: middle;\n",
       "    }\n",
       "\n",
       "    .dataframe tbody tr th {\n",
       "        vertical-align: top;\n",
       "    }\n",
       "\n",
       "    .dataframe thead th {\n",
       "        text-align: right;\n",
       "    }\n",
       "</style>\n",
       "<table border=\"1\" class=\"dataframe\">\n",
       "  <thead>\n",
       "    <tr style=\"text-align: right;\">\n",
       "      <th></th>\n",
       "      <th>artist</th>\n",
       "      <th>song</th>\n",
       "    </tr>\n",
       "  </thead>\n",
       "  <tbody>\n",
       "    <tr>\n",
       "      <th>0</th>\n",
       "      <td>Jari Sillanpää</td>\n",
       "      <td>Takes 2 to Tango</td>\n",
       "    </tr>\n",
       "    <tr>\n",
       "      <th>1</th>\n",
       "      <td>Aleksandra and Konstantin</td>\n",
       "      <td>My Galileo</td>\n",
       "    </tr>\n",
       "    <tr>\n",
       "      <th>2</th>\n",
       "      <td>Piero Esteriore  and the MusicStars</td>\n",
       "      <td>Celebrate</td>\n",
       "    </tr>\n",
       "    <tr>\n",
       "      <th>3</th>\n",
       "      <td>Fomins and Kleins</td>\n",
       "      <td>Dziesma par laimi</td>\n",
       "    </tr>\n",
       "    <tr>\n",
       "      <th>4</th>\n",
       "      <td>David D'Or</td>\n",
       "      <td>Leha'amin     (  להאמין  )</td>\n",
       "    </tr>\n",
       "    <tr>\n",
       "      <th>...</th>\n",
       "      <td>...</td>\n",
       "      <td>...</td>\n",
       "    </tr>\n",
       "    <tr>\n",
       "      <th>732</th>\n",
       "      <td>Blas Cantó</td>\n",
       "      <td>Universo</td>\n",
       "    </tr>\n",
       "    <tr>\n",
       "      <th>733</th>\n",
       "      <td>The Mamas</td>\n",
       "      <td>Move</td>\n",
       "    </tr>\n",
       "    <tr>\n",
       "      <th>734</th>\n",
       "      <td>Gjon's Tears</td>\n",
       "      <td>Répondez-moi</td>\n",
       "    </tr>\n",
       "    <tr>\n",
       "      <th>735</th>\n",
       "      <td>Go_A</td>\n",
       "      <td>Solovey     (  Соловей  )</td>\n",
       "    </tr>\n",
       "    <tr>\n",
       "      <th>736</th>\n",
       "      <td>James Newman</td>\n",
       "      <td>My Last Breath</td>\n",
       "    </tr>\n",
       "  </tbody>\n",
       "</table>\n",
       "<p>737 rows × 2 columns</p>\n",
       "</div>"
      ],
      "text/plain": [
       "                                  artist                        song\n",
       "0                         Jari Sillanpää            Takes 2 to Tango\n",
       "1              Aleksandra and Konstantin                  My Galileo\n",
       "2    Piero Esteriore  and the MusicStars                   Celebrate\n",
       "3                      Fomins and Kleins           Dziesma par laimi\n",
       "4                             David D'Or  Leha'amin     (  להאמין  )\n",
       "..                                   ...                         ...\n",
       "732                           Blas Cantó                    Universo\n",
       "733                            The Mamas                        Move\n",
       "734                         Gjon's Tears                Répondez-moi\n",
       "735                                 Go_A   Solovey     (  Соловей  )\n",
       "736                         James Newman              My Last Breath\n",
       "\n",
       "[737 rows x 2 columns]"
      ]
     },
     "execution_count": 6,
     "metadata": {},
     "output_type": "execute_result"
    }
   ],
   "source": [
    "eurosong = eurosong[[\"artist\",\"song\"]].reset_index(drop=True)\n",
    "eurosong[\"song\"] = eurosong[\"song\"].apply(lambda title: title.replace('\"',' ').strip())\n",
    "eurosong"
   ]
  }
 ],
 "metadata": {
  "kernelspec": {
   "display_name": "Python 3",
   "language": "python",
   "name": "python3"
  },
  "language_info": {
   "codemirror_mode": {
    "name": "ipython",
    "version": 3
   },
   "file_extension": ".py",
   "mimetype": "text/x-python",
   "name": "python",
   "nbconvert_exporter": "python",
   "pygments_lexer": "ipython3",
   "version": "3.8.8"
  }
 },
 "nbformat": 4,
 "nbformat_minor": 5
}
